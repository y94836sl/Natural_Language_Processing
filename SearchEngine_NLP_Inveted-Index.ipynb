{
 "cells": [
  {
   "cell_type": "code",
   "execution_count": 1,
   "metadata": {},
   "outputs": [],
   "source": [
    "import nltk\n",
    "#For file reading\n",
    "import os\n",
    "from os import listdir\n",
    "#For pre-processing \n",
    "from nltk.tokenize import punkt\n",
    "from nltk.corpus import stopwords\n",
    "from nltk.stem import PorterStemmer\n",
    "from nltk.tokenize import TweetTokenizer\n",
    "import string\n",
    "# import re\n",
    "# from collections import Counter"
   ]
  },
  {
   "cell_type": "code",
   "execution_count": 2,
   "metadata": {},
   "outputs": [],
   "source": [
    "class InvertedIndex:\n",
    "    \"\"\"\n",
    "    Construct Inverted Index\n",
    "    \"\"\"\n",
    "    def __init__(self):\n",
    "        self.index = {}\n",
    "    \n",
    "    def read_data(self, path: str) -> list:\n",
    "        \"\"\"\n",
    "        Read files from a directory and then append the data of each file into a list.\n",
    "        \"\"\"\n",
    "        self.path = path\n",
    "        folder = listdir(self.path)\n",
    "        res = []\n",
    "        for files in folder:\n",
    "            # check if current path is a file\n",
    "            if files.endswith(\".txt\"):\n",
    "                filePath = os.path.join(self.path, files)\n",
    "                if os.path.isfile(filePath):\n",
    "                    with open(filePath, \"r\") as file:\n",
    "                        lines = file.readlines()\n",
    "                    res.append(lines)\n",
    "        return res\n",
    " \n",
    "    def process_document(self, document: str) -> list:\n",
    "        \"\"\"\n",
    "        pre-process a document and return a list of its terms\n",
    "        str->list\"\"\"\n",
    "        \n",
    "        #Tokenization\n",
    "        token_list = nltk.word_tokenize(document)\n",
    "        # Remove punctuations.\n",
    "        table = str.maketrans('', '', '\\t')\n",
    "        token_list = [word.translate(table) for word in token_list]\n",
    "        punctuations = (string.punctuation).replace(\"'\", \"\")\n",
    "        trans_table = str.maketrans('', '', punctuations)\n",
    "        stripped_words = [word.translate(trans_table) for word in token_list]\n",
    "        token_list = [str for str in stripped_words if str]\n",
    "        # Change to lowercase.\n",
    "        token_list =[word.lower() for word in token_list]\n",
    "        return token_list\n",
    "    \n",
    "    def index_corpus(self, documents: list) -> None:\n",
    "        \"\"\"\n",
    "        index given documents\n",
    "        list->None\"\"\"\n",
    "        sequencePair = {}\n",
    "        listPair = []\n",
    "        #Store the term and docID in a sequence pair\n",
    "        for i, doc in enumerate(documents):\n",
    "            for data in doc:\n",
    "                tokenList = self.process_document(data)\n",
    "                for token in tokenList:\n",
    "                    sequencePair[token] = i+1\n",
    "                    listPair.append(sequencePair)\n",
    "        print(\"ListPairs:\\n\",listPair)\n",
    "        #Sort the sequence pair first by term then by \n",
    "        sortedDict = {val[0] : val[1] for val in sorted(sequencePair.items(), key = lambda x: (x[1], x[0]))}\n",
    "         \n",
    "        for key, value in sortedDict.items():\n",
    "            # Initialize the stemmer.\n",
    "            stemmer = PorterStemmer()\n",
    "            # First stem the term.\n",
    "#             key = stemmer.stem(key)\n",
    "            if key not in self.index.keys():\n",
    "                # Initialize the list.\n",
    "                self.index[key] = []\n",
    "                # The total frequency is 1.\n",
    "                self.index[key].append(1)\n",
    "                # Add docID to posting list.\n",
    "                # The postings list is initially empty.\n",
    "                self.index[key].append({})     \n",
    "                # Add doc ID to postings list.\n",
    "                self.index[key][1] = value\n",
    "            else:\n",
    "                # If key is in the dicctionary, check if the docID already exsist\n",
    "                if value not in self.index.values():\n",
    "                    # if same key occurs in a different document, add the document frequency \n",
    "                    self.index[key][0] = self.index[key][0] +1\n",
    "                    self.index[key][1].append(value)\n",
    "                else:\n",
    "                    continue\n",
    "     \n",
    "    def proximity_search(self, term1: str, term2: str) -> dict:\n",
    "        \"\"\"\n",
    "        1) check whether given two terms appear within a window\n",
    "        2) calculate the number of their co-existance in a document\n",
    "        3) add the document id and the number of matches into a dict\n",
    "        return the dict\"\"\"\n",
    "    \n",
    "    "
   ]
  },
  {
   "cell_type": "code",
   "execution_count": 3,
   "metadata": {},
   "outputs": [],
   "source": [
    "inde = InvertedIndex()\n",
    "path = \"/Users/rubyli/Desktop/UoM/UoM-Year3/COMP34711-Natural Language Processing/CWK/Simpsons2022\"\n",
    "res = inde.read_data(path)\n",
    "# docList = inde.process_document(str(res))\n",
    "# inde.index_corpus(res)"
   ]
  },
  {
   "cell_type": "code",
   "execution_count": 4,
   "metadata": {},
   "outputs": [
    {
     "name": "stdout",
     "output_type": "stream",
     "text": [
      "TEST DOC: \n",
      " ['Marge vs. the Monorail\\n', 'From Wikipedia, the free encyclopedia\\n', 'Jump to navigationJump to search\\n', '\"Marge vs. the Monorail\"\\n', 'The Simpsons episode\\n', 'Marge vs. the Monorail (promo card).png\\n', 'Promotional artwork for the episode\\n', 'Episode no.\\tSeason 4\\n', 'Episode 12\\n', 'Directed by\\tRich Moore[1]\\n', \"Written by\\tConan O'Brien[1]\\n\", 'Featured music\\t\"The Monorail Song\"\\n', \"by Conan O'Brien and Al Jean\\n\", 'Production code\\t9F10\\n', 'Original air date\\tJanuary 14, 1993[2]\\n', 'Guest appearances\\n', 'Phil Hartman as Lyle Lanley[1]\\n', 'Leonard Nimoy as himself[2]\\n', 'Episode features\\n', 'Chalkboard gag\\t\"I will not eat things for money\"[3]\\n', \"Couch gag\\tThe Simpsons sit on the couch, followed by four rows of Springfield's residents sitting in front of the family.[1]\\n\", 'Commentary\\tMatt Groening\\n', 'Al Jean\\n', 'Mike Reiss\\n', 'Rich Moore\\n', 'David Silverman\\n', \"Conan O'Brien\\n\", 'Episode chronology\\n', '← Previous\\n', '\"Homer\\'s Triple Bypass\"\\tNext →\\n', '\"Selma\\'s Choice\"\\n', ' \\n', 'The Simpsons (season 4)\\n', 'List of episodes\\n', '\"Marge vs. the Monorail\" is the twelfth episode in the fourth season of the American animated television series The Simpsons. It originally aired on the Fox network in the United States on January 14, 1993. The plot revolves around Springfield\\'s impulse purchase of a faulty monorail from a conman, and how it subsequently falls to Marge to stop the train from destroying the town.\\n', '\\n', 'The episode was written by Conan O\\'Brien and directed by Rich Moore. Recurring guest star Phil Hartman provided the voice of Lyle Lanley, making this the only episode in which he voiced a character other than Troy McClure or Lionel Hutz. Also, Leonard Nimoy made a guest appearance in this episode. \"Marge vs. the Monorail\" has been widely praised by fans and critics and is generally considered one of the best episodes of The Simpsons.[4] O\\'Brien has said that, of the episodes he wrote, this was his favorite.[5] Nimoy\\'s unexpected guest appearance was also widely praised.[6] Despite this, the episode attracted some criticism when it was first aired due to the somewhat abstract and less situational nature of the plot, particularly from voice actor Yeardley Smith who in 1995 described the episode as \"truly one of our worst\".[7]\\n', '\\n', '\\n', 'Contents\\n', '1\\tPlot\\n', '2\\tProduction\\n', '3\\tCultural references\\n', '4\\tReception\\n', '4.1\\tCritical reception\\n', '4.2\\tRatings\\n', '5\\tSee also\\n', '6\\tReferences\\n', '7\\tExternal links\\n', 'Plot\\n', \"When the Environmental Protection Agency fines Mr. Burns $3 million for dumping nuclear waste in a Springfield park, a town meeting is held on how to spend the money. After a few suggestions—including one from a poorly-disguised Burns to invest the money back into his power plant—Marge nearly convinces them to repair the rundown Main Street, but a fast-talking salesman named Lyle Lanley leads a song-and-dance routine that convinces the townspeople to instead build a monorail. After running a questionable training program, Lanley randomly selects Homer as the monorail's conductor. Doubtful about Lanley, Marge visits his office and discovers he intends to run off with money skimmed from the project, leaving the townspeople with a defective train.\\n\", '\\n', \"Marge drives to the town of North Haverbrook, a previous purchaser of one of Lanley's monorails. She discovers the town and its monorail in ruins. She meets Sebastian Cobb, the engineer who designed it, and he confirms that all of Lanley's monorail projects are scams. Cobb offers to help Marge prevent Springfield from suffering the same fate. At the Springfield monorail's inaugural run, Lanley arranges for Leonard Nimoy to be present at a well-attended opening ceremony, which is a diversion that enables him to escape on a plane to Tahiti. When the flight makes an unexpected stopover in North Haverbrook, the townsfolk storm the aircraft to attack Lanley for ruining the town.\\n\", '\\n', 'Back in Springfield, the monorail leaves the station just before Marge and Cobb arrive and soon goes out of control, causing the solar-powered train to over-speed round the track, endangering Homer, Bart, and everyone on board. The train stops briefly during a solar eclipse, then starts again. As Chief Wiggum and Mayor Quimby argue over who takes charge, Marge and Cobb contact Homer by radio and Cobb tells him he must find an anchor to stop the train. Improvising quickly, Homer pries loose the metal \"M\" from the engine\\'s side logo, ties a rope to it, and throws it from the train. After damaging a large portion of the town—especially the already-derelict roads—the \"M\" catches on the giant donut of the Lard Lad Donut store\\'s sign and the rope holds, stopping the monorail. As the passengers are rescued, Marge concludes that the monorail was the only foolish project the town ever embarked on, except for a skyscraper made from Popsicle sticks, a 50-foot-tall magnifying glass, and an up-escalator that leads nowhere.[2][3][8]\\n', '\\n', 'Production\\n', 'Conan O\\'Brien conceived the idea when he saw a billboard in Los Angeles that just had the word \"Monorail\" on it, with no other details or explanation.[9] He first pitched this episode at a story retreat to Al Jean and Mike Reiss, who said the episode was a little crazy and thought he should try some other material first. O\\'Brien had previously pitched episodes where Lisa had a rival and where Marge gets a job at the power plant and Mr. Burns falls in love with her; both went well. James L. Brooks \"absolutely loved\" this episode when O\\'Brien presented it.[10]\\n', '\\n', 'Leonard Nimoy was not originally considered for the role as the celebrity at the maiden voyage of the monorail, as the writing staff did not think he would accept, because William Shatner had previously turned the show down. Instead, George Takei was asked to guest star, as he had previously appeared as Akira in the second season episode \"One Fish, Two Fish, Blowfish, Blue Fish\". After demanding several script changes,[6] Takei declined, saying he did not want to make fun of public transportation as he was a member of the board of directors of the Southern California Rapid Transit District (now the Los Angeles County Metropolitan Transit Authority). As a result, the staff went to Nimoy, who accepted.[10]\\n', '\\n', 'Cultural references\\n', 'The episode borrows some elements from The Music Man, a musical stage production about a conman, with \"The Monorail Song\" strongly resembling the show\\'s \"Ya Got Trouble\" and Lyle Lanley being based on the play\\'s character Harold Hill.[1]\\n', '\\n', 'The episode starts with a tribute song to The Flintstones as Homer heads home from work and crashes his car into a chestnut tree.[1] The music that plays as Smithers takes the barrel of toxic waste is a spoof of the \"Axel F\" theme from Beverly Hills Cop.[11] Later, Leonard Nimoy makes a guest appearance as himself. References are made to his role in Star Trek: The Original Series, and an allusion to his role as the host of In Search of.... Kyle Darren, the caricature of Luke Perry, star of Beverly Hills, 90210, appears as well.[12] Mayor Quimby uses the phrase \"May the Force be with you\" from the Star Wars franchise, confusing it with Nimoy\\'s work on Star Trek (and—at the same time—believing Nimoy to have been \"one of The Little Rascals\").[13] Homer\\'s Monorail conductor uniform is based on uniforms from Star Wars.[14] When Mr. Burns is brought into the court room, he is restrained in the same way as Hannibal Lecter in the film The Silence of the Lambs.[1] Homer briefly serenades Marge in their bedroom with a line from the folk tune \"The Riddle Song\".[15] The logo on the monorail cars which is revealed as Homer attempts to stop the speeding train shows they were first used during the 1964 World\\'s Fair, though that event\\'s train actually used cars suspended from an overhead rail.[16]\\n', '\\n', 'Reception\\n', 'Critical reception\\n', '\"Marge vs. the Monorail\" has frequently been selected in lists of the show\\'s best episodes. In 1998, TV Guide listed it in its list of top twelve Simpsons episodes.[17] In 2003, Entertainment Weekly released a list of its Top 25 episodes, ranking this episode in fourth, saying \"the episode has arguably the highest throwaway-gag-per-minute ratio of any Simpsons, and all of them are laugh-out-loud funny.\"[18] In his book Planet Simpson, Chris Turner named the episode as being one of his five favorites.[19] In 2006, IGN named the episode the best of the fourth season.[20] John Ortved of Vanity Fair called it the third best episode of the show, due to, \"An amazing musical number; Leonard Nimoy in a random guest appearance... Besides being replete with excellent jokes, this episode reveals the town\\'s mob mentality and its collective lack of reason. This is the episode that defines Springfield more than any other.\"[21] In 2010, Michael Moran of The Times ranked the episode as the ninth best in the show\\'s history.[22] In 2019, Entertainment.ie named it among the 10 greatest Simpsons episodes of all time.[23] Later that same year, The Guardian named it one of the five greatest episodes in Simpsons history,[24] Time ranked the episode first in its list of 10 best Simpsons episodes picked by Simpsons experts,[25] and Consequence of Sound ranked it the number two episode on its list of top 30 Simpsons episodes.[26]\\n', '\\n', 'The authors of the book I Can\\'t Believe It\\'s a Bigger and Better Updated Unofficial Simpsons Guide, Warren Martyn and Adrian Wood, called it \"an unsurpassed episode. It\\'s hard to know where to start dishing out the praise — Leonard Nimoy\\'s guest appearance, the Monorail song, Marge\\'s narration, the truck full of popcorn...\"[1] Robert Canning of IGN strongly praised the episode, stating \"It is by far one of the most loved episodes of The Simpsons and can safely be called a classic by any fan. From beginning to end, there\\'s joke after joke after hilarious joke. There\\'s nothing in this half-hour that doesn\\'t work, and no matter how many times I watch this episode, it never, ever gets old.\"[27] Emily VanDerWerff of Slant Magazine named it the show\\'s best episode, stating \"It\\'s the one you think of when you think of a Simpsons episode\", and is \"maybe the show\\'s funniest, and it most perfectly encapsulates what may be the show\\'s overriding theme: People are really stupid and self-serving, but if you give them long enough, they\\'ll eventually bumble toward the right answer.\"[28] In 2012, \"Marge vs. the Monorail\" was the second-place finisher in a Splitsider reader poll to decide on the best episode of any television sitcom, losing to the Community episode \"Remedial Chaos Theory\".[29]\\n', '\\n', 'Leonard Nimoy\\'s appearance as himself has been praised as being one of the show\\'s best guest appearances.[6] In a list of the 25 greatest guest voices on the show, released September 5, 2006, IGN ranked Leonard Nimoy at 11th.[30] Nathan Ditum ranked his performance as the 13th best guest appearance in the show\\'s history.[31] Nimoy made a second guest appearance in season eight\\'s \"The Springfield Files\".[30]\\n', '\\n', 'Conan O\\'Brien has said that of all the episodes of The Simpsons he wrote, this is his favorite.[5] Homer\\'s lines \"I call the big one Bitey\" and \"Donuts, is there anything they can\\'t do?\" are among series creator Matt Groening\\'s favorite lines.[32] O\\'Brien and Hank Azaria performed the monorail song live at the Hollywood Bowl from September 12–14, 2014 as part of the show \"The Simpsons Take The Bowl\".[33] When The Simpsons began streaming on Disney+ in 2019, former Simpsons writer and executive producer Bill Oakley named the episode as one of the best classic Simpsons episodes to watch on the service.[34]\\n', '\\n', 'The television show Supernatural references \"Marge vs. the Monorail\" in the episode \"Something Wicked\" when Sam Winchester says that places attacked by the monster included Brockway, Ogdenville, and North Haverbrook, all towns mentioned in the song Lyle Lanley uses to persuade Springfield to purchase a monorail.[35]\\n', '\\n', 'Conversely, the episode was not initially well received by many fans of the show\\'s earlier seasons, as it was a particularly absurd early example of the show taking a more joke-based cartoon approach to comedy, rather than the more realistic situational style of comedy it had employed in its first few years. In 1995, during the production of the seventh season, Yeardley Smith said of the episode as \"truly one of our worst – we [the entire cast] all agree\".[7]\\n', '\\n', 'The Monorail Society, an organization with 14,000 members worldwide, has blamed the episode for sullying the reputation of monorails,[36] to which Simpsons creator Matt Groening responded in 2021, \"That\\'s a by-product of our viciousness... Monorails are great, so it makes me sad, but at the same time if something\\'s going to happen in The Simpsons, it\\'s going to go wrong, right?\"[37]\\n', '\\n', 'Ratings\\n', 'In its original American broadcast, \"Marge vs. the Monorail\" finished 30th in the ratings for the week of January 11 to 17, 1993, with a Nielsen rating of 13.7.[38] The episode was the highest-rated show on the Fox network that week.[38]']\n"
     ]
    }
   ],
   "source": [
    "testDoc = res[4]\n",
    "print(\"TEST DOC: \\n\", testDoc)"
   ]
  },
  {
   "cell_type": "code",
   "execution_count": 5,
   "metadata": {},
   "outputs": [
    {
     "name": "stderr",
     "output_type": "stream",
     "text": [
      "IOPub data rate exceeded.\n",
      "The notebook server will temporarily stop sending output\n",
      "to the client in order to avoid crashing it.\n",
      "To change this limit, set the config variable\n",
      "`--NotebookApp.iopub_data_rate_limit`.\n",
      "\n",
      "Current values:\n",
      "NotebookApp.iopub_data_rate_limit=1000000.0 (bytes/sec)\n",
      "NotebookApp.rate_limit_window=3.0 (secs)\n",
      "\n"
     ]
    }
   ],
   "source": [
    "inde.index_corpus(testDoc)\n",
    "print(inde.index)"
   ]
  },
  {
   "cell_type": "code",
   "execution_count": 6,
   "metadata": {},
   "outputs": [],
   "source": [
    "def main():\n",
    "    \"main call function\"\n",
    "    index = InvertedIndex() # initilaise the index\n",
    "    corpus = index.read_data(\"/Users/rubyli/Desktop/UoM/UoM-Year3/COMP34711-Natural Language Processing/CWK/Simpsons2022\") # specify the directory path in which files are located\n",
    "    index.index_corpus(corpus) # index documents/corpus\n",
    "    \n",
    "#     search_term = input(\"Enter your query: \") # insert a query\n",
    "    # write a demo to check entered search terms against the inverted index\n",
    "        # 1) len(search _term) == one --> return the following: \n",
    "            # a) the number of documents in which a term appears.\n",
    "            # b) all document ids in which a term appears.\n",
    "            \n",
    "        # 2) len(search_term) == 2 --> return the following: \n",
    "            # a) the number of documents in which the entered terms appear within a pre-defined window.\n",
    "            # b) all document ids in which the terms appear within that window.\n",
    "    return index\n",
    "    \n",
    "index = main()"
   ]
  },
  {
   "cell_type": "code",
   "execution_count": null,
   "metadata": {},
   "outputs": [],
   "source": []
  }
 ],
 "metadata": {
  "kernelspec": {
   "display_name": "Python 3",
   "language": "python",
   "name": "python3"
  },
  "language_info": {
   "codemirror_mode": {
    "name": "ipython",
    "version": 3
   },
   "file_extension": ".py",
   "mimetype": "text/x-python",
   "name": "python",
   "nbconvert_exporter": "python",
   "pygments_lexer": "ipython3",
   "version": "3.8.8"
  }
 },
 "nbformat": 4,
 "nbformat_minor": 4
}
